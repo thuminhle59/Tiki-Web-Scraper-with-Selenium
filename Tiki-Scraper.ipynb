{
  "nbformat": 4,
  "nbformat_minor": 0,
  "metadata": {
    "colab": {
      "name": "TeamWork_W1_D6_TIKI Scraper.ipynb",
      "provenance": [],
      "collapsed_sections": [
        "y9YQJxiiXiZ-",
        "1PxiWLQ2Xoc9",
        "0eN3zAMuXMh3",
        "TmHtax-T3NJh",
        "TNQYhIUqXZZU"
      ]
    },
    "kernelspec": {
      "display_name": "Python 3",
      "name": "python3"
    },
    "language_info": {
      "name": "python"
    }
  },
  "cells": [
    {
      "cell_type": "markdown",
      "metadata": {
        "id": "z3vIBItscznR"
      },
      "source": [
        "# **Before you do anything, choose File --> Save a Copy to Drive**"
      ]
    },
    {
      "cell_type": "markdown",
      "metadata": {
        "id": "Qi_-66FnZDLV"
      },
      "source": [
        "<img src=\"https://s3.cloud.cmctelecom.vn/tinhte1/2018/03/4267082_CV.jpg\" width=browser_width >"
      ]
    },
    {
      "cell_type": "markdown",
      "metadata": {
        "id": "vUYk0UDdbsFG"
      },
      "source": [
        "\n",
        "\n",
        "# **Tiki Web Scraping with Selenium**\n",
        "\n",
        "\n",
        "**Overview**: Build a web-crawler that take in a Tiki URL and return a dataframe \n",
        "\n",
        "**Due Date**: Before Monday next week.\n",
        "\n",
        "**Requirements** \n",
        "1. Your function should be able to take in an URL and return a pandas dataframe\n",
        "2. The final dataframe should contain the following informations: \n",
        "    * Product Name\n",
        "    * Price\n",
        "    * URL of the product image\n",
        "    * URL of that product page\n",
        "\n",
        "Try to follow the guideline below"
      ]
    },
    {
      "cell_type": "markdown",
      "metadata": {
        "id": "y9YQJxiiXiZ-"
      },
      "source": [
        "#Install resources"
      ]
    },
    {
      "cell_type": "code",
      "metadata": {
        "id": "WH7Z6VRFLYm2",
        "colab": {
          "base_uri": "https://localhost:8080/"
        },
        "outputId": "ac97937e-9852-4f47-dbd4-9e7735399a30"
      },
      "source": [
        "# install selenium and other resources for crawling data\n",
        "!pip install selenium\n",
        "!apt-get update\n",
        "!apt install chromium-chromedriver"
      ],
      "execution_count": null,
      "outputs": [
        {
          "output_type": "stream",
          "text": [
            "Collecting selenium\n",
            "  Downloading selenium-3.141.0-py2.py3-none-any.whl (904 kB)\n",
            "\u001b[?25l\r\u001b[K     |▍                               | 10 kB 21.3 MB/s eta 0:00:01\r\u001b[K     |▊                               | 20 kB 27.1 MB/s eta 0:00:01\r\u001b[K     |█                               | 30 kB 32.6 MB/s eta 0:00:01\r\u001b[K     |█▌                              | 40 kB 35.6 MB/s eta 0:00:01\r\u001b[K     |█▉                              | 51 kB 36.3 MB/s eta 0:00:01\r\u001b[K     |██▏                             | 61 kB 38.4 MB/s eta 0:00:01\r\u001b[K     |██▌                             | 71 kB 27.2 MB/s eta 0:00:01\r\u001b[K     |███                             | 81 kB 28.4 MB/s eta 0:00:01\r\u001b[K     |███▎                            | 92 kB 28.5 MB/s eta 0:00:01\r\u001b[K     |███▋                            | 102 kB 30.1 MB/s eta 0:00:01\r\u001b[K     |████                            | 112 kB 30.1 MB/s eta 0:00:01\r\u001b[K     |████▍                           | 122 kB 30.1 MB/s eta 0:00:01\r\u001b[K     |████▊                           | 133 kB 30.1 MB/s eta 0:00:01\r\u001b[K     |█████                           | 143 kB 30.1 MB/s eta 0:00:01\r\u001b[K     |█████▍                          | 153 kB 30.1 MB/s eta 0:00:01\r\u001b[K     |█████▉                          | 163 kB 30.1 MB/s eta 0:00:01\r\u001b[K     |██████▏                         | 174 kB 30.1 MB/s eta 0:00:01\r\u001b[K     |██████▌                         | 184 kB 30.1 MB/s eta 0:00:01\r\u001b[K     |██████▉                         | 194 kB 30.1 MB/s eta 0:00:01\r\u001b[K     |███████▎                        | 204 kB 30.1 MB/s eta 0:00:01\r\u001b[K     |███████▋                        | 215 kB 30.1 MB/s eta 0:00:01\r\u001b[K     |████████                        | 225 kB 30.1 MB/s eta 0:00:01\r\u001b[K     |████████▎                       | 235 kB 30.1 MB/s eta 0:00:01\r\u001b[K     |████████▊                       | 245 kB 30.1 MB/s eta 0:00:01\r\u001b[K     |█████████                       | 256 kB 30.1 MB/s eta 0:00:01\r\u001b[K     |█████████▍                      | 266 kB 30.1 MB/s eta 0:00:01\r\u001b[K     |█████████▉                      | 276 kB 30.1 MB/s eta 0:00:01\r\u001b[K     |██████████▏                     | 286 kB 30.1 MB/s eta 0:00:01\r\u001b[K     |██████████▌                     | 296 kB 30.1 MB/s eta 0:00:01\r\u001b[K     |██████████▉                     | 307 kB 30.1 MB/s eta 0:00:01\r\u001b[K     |███████████▎                    | 317 kB 30.1 MB/s eta 0:00:01\r\u001b[K     |███████████▋                    | 327 kB 30.1 MB/s eta 0:00:01\r\u001b[K     |████████████                    | 337 kB 30.1 MB/s eta 0:00:01\r\u001b[K     |████████████▎                   | 348 kB 30.1 MB/s eta 0:00:01\r\u001b[K     |████████████▊                   | 358 kB 30.1 MB/s eta 0:00:01\r\u001b[K     |█████████████                   | 368 kB 30.1 MB/s eta 0:00:01\r\u001b[K     |█████████████▍                  | 378 kB 30.1 MB/s eta 0:00:01\r\u001b[K     |█████████████▊                  | 389 kB 30.1 MB/s eta 0:00:01\r\u001b[K     |██████████████▏                 | 399 kB 30.1 MB/s eta 0:00:01\r\u001b[K     |██████████████▌                 | 409 kB 30.1 MB/s eta 0:00:01\r\u001b[K     |██████████████▉                 | 419 kB 30.1 MB/s eta 0:00:01\r\u001b[K     |███████████████▏                | 430 kB 30.1 MB/s eta 0:00:01\r\u001b[K     |███████████████▋                | 440 kB 30.1 MB/s eta 0:00:01\r\u001b[K     |████████████████                | 450 kB 30.1 MB/s eta 0:00:01\r\u001b[K     |████████████████▎               | 460 kB 30.1 MB/s eta 0:00:01\r\u001b[K     |████████████████▋               | 471 kB 30.1 MB/s eta 0:00:01\r\u001b[K     |█████████████████               | 481 kB 30.1 MB/s eta 0:00:01\r\u001b[K     |█████████████████▍              | 491 kB 30.1 MB/s eta 0:00:01\r\u001b[K     |█████████████████▊              | 501 kB 30.1 MB/s eta 0:00:01\r\u001b[K     |██████████████████▏             | 512 kB 30.1 MB/s eta 0:00:01\r\u001b[K     |██████████████████▌             | 522 kB 30.1 MB/s eta 0:00:01\r\u001b[K     |██████████████████▉             | 532 kB 30.1 MB/s eta 0:00:01\r\u001b[K     |███████████████████▏            | 542 kB 30.1 MB/s eta 0:00:01\r\u001b[K     |███████████████████▋            | 552 kB 30.1 MB/s eta 0:00:01\r\u001b[K     |████████████████████            | 563 kB 30.1 MB/s eta 0:00:01\r\u001b[K     |████████████████████▎           | 573 kB 30.1 MB/s eta 0:00:01\r\u001b[K     |████████████████████▋           | 583 kB 30.1 MB/s eta 0:00:01\r\u001b[K     |█████████████████████           | 593 kB 30.1 MB/s eta 0:00:01\r\u001b[K     |█████████████████████▍          | 604 kB 30.1 MB/s eta 0:00:01\r\u001b[K     |█████████████████████▊          | 614 kB 30.1 MB/s eta 0:00:01\r\u001b[K     |██████████████████████          | 624 kB 30.1 MB/s eta 0:00:01\r\u001b[K     |██████████████████████▌         | 634 kB 30.1 MB/s eta 0:00:01\r\u001b[K     |██████████████████████▉         | 645 kB 30.1 MB/s eta 0:00:01\r\u001b[K     |███████████████████████▏        | 655 kB 30.1 MB/s eta 0:00:01\r\u001b[K     |███████████████████████▌        | 665 kB 30.1 MB/s eta 0:00:01\r\u001b[K     |████████████████████████        | 675 kB 30.1 MB/s eta 0:00:01\r\u001b[K     |████████████████████████▎       | 686 kB 30.1 MB/s eta 0:00:01\r\u001b[K     |████████████████████████▋       | 696 kB 30.1 MB/s eta 0:00:01\r\u001b[K     |█████████████████████████       | 706 kB 30.1 MB/s eta 0:00:01\r\u001b[K     |█████████████████████████▍      | 716 kB 30.1 MB/s eta 0:00:01\r\u001b[K     |█████████████████████████▊      | 727 kB 30.1 MB/s eta 0:00:01\r\u001b[K     |██████████████████████████      | 737 kB 30.1 MB/s eta 0:00:01\r\u001b[K     |██████████████████████████▍     | 747 kB 30.1 MB/s eta 0:00:01\r\u001b[K     |██████████████████████████▉     | 757 kB 30.1 MB/s eta 0:00:01\r\u001b[K     |███████████████████████████▏    | 768 kB 30.1 MB/s eta 0:00:01\r\u001b[K     |███████████████████████████▌    | 778 kB 30.1 MB/s eta 0:00:01\r\u001b[K     |████████████████████████████    | 788 kB 30.1 MB/s eta 0:00:01\r\u001b[K     |████████████████████████████▎   | 798 kB 30.1 MB/s eta 0:00:01\r\u001b[K     |████████████████████████████▋   | 808 kB 30.1 MB/s eta 0:00:01\r\u001b[K     |█████████████████████████████   | 819 kB 30.1 MB/s eta 0:00:01\r\u001b[K     |█████████████████████████████▍  | 829 kB 30.1 MB/s eta 0:00:01\r\u001b[K     |█████████████████████████████▊  | 839 kB 30.1 MB/s eta 0:00:01\r\u001b[K     |██████████████████████████████  | 849 kB 30.1 MB/s eta 0:00:01\r\u001b[K     |██████████████████████████████▍ | 860 kB 30.1 MB/s eta 0:00:01\r\u001b[K     |██████████████████████████████▉ | 870 kB 30.1 MB/s eta 0:00:01\r\u001b[K     |███████████████████████████████▏| 880 kB 30.1 MB/s eta 0:00:01\r\u001b[K     |███████████████████████████████▌| 890 kB 30.1 MB/s eta 0:00:01\r\u001b[K     |███████████████████████████████▉| 901 kB 30.1 MB/s eta 0:00:01\r\u001b[K     |████████████████████████████████| 904 kB 30.1 MB/s \n",
            "\u001b[?25hRequirement already satisfied: urllib3 in /usr/local/lib/python3.7/dist-packages (from selenium) (1.24.3)\n",
            "Installing collected packages: selenium\n",
            "Successfully installed selenium-3.141.0\n",
            "Get:1 http://security.ubuntu.com/ubuntu bionic-security InRelease [88.7 kB]\n",
            "Get:2 https://cloud.r-project.org/bin/linux/ubuntu bionic-cran40/ InRelease [3,626 B]\n",
            "Ign:3 https://developer.download.nvidia.com/compute/cuda/repos/ubuntu1804/x86_64  InRelease\n",
            "Get:4 http://ppa.launchpad.net/c2d4u.team/c2d4u4.0+/ubuntu bionic InRelease [15.9 kB]\n",
            "Hit:5 http://archive.ubuntu.com/ubuntu bionic InRelease\n",
            "Ign:6 https://developer.download.nvidia.com/compute/machine-learning/repos/ubuntu1804/x86_64  InRelease\n",
            "Get:7 https://developer.download.nvidia.com/compute/cuda/repos/ubuntu1804/x86_64  Release [697 B]\n",
            "Hit:8 https://developer.download.nvidia.com/compute/machine-learning/repos/ubuntu1804/x86_64  Release\n",
            "Get:9 https://developer.download.nvidia.com/compute/cuda/repos/ubuntu1804/x86_64  Release.gpg [836 B]\n",
            "Get:10 http://archive.ubuntu.com/ubuntu bionic-updates InRelease [88.7 kB]\n",
            "Hit:11 http://ppa.launchpad.net/cran/libgit2/ubuntu bionic InRelease\n",
            "Get:12 http://archive.ubuntu.com/ubuntu bionic-backports InRelease [74.6 kB]\n",
            "Hit:13 http://ppa.launchpad.net/deadsnakes/ppa/ubuntu bionic InRelease\n",
            "Get:14 http://security.ubuntu.com/ubuntu bionic-security/main amd64 Packages [2,257 kB]\n",
            "Get:15 http://security.ubuntu.com/ubuntu bionic-security/restricted amd64 Packages [500 kB]\n",
            "Get:16 http://ppa.launchpad.net/graphics-drivers/ppa/ubuntu bionic InRelease [21.3 kB]\n",
            "Get:17 http://security.ubuntu.com/ubuntu bionic-security/universe amd64 Packages [1,420 kB]\n",
            "Get:18 http://security.ubuntu.com/ubuntu bionic-security/multiverse amd64 Packages [31.5 kB]\n",
            "Ign:20 https://developer.download.nvidia.com/compute/cuda/repos/ubuntu1804/x86_64  Packages\n",
            "Get:20 https://developer.download.nvidia.com/compute/cuda/repos/ubuntu1804/x86_64  Packages [679 kB]\n",
            "Get:21 http://ppa.launchpad.net/c2d4u.team/c2d4u4.0+/ubuntu bionic/main Sources [1,785 kB]\n",
            "Get:22 http://archive.ubuntu.com/ubuntu bionic-updates/main amd64 Packages [2,693 kB]\n",
            "Get:23 http://ppa.launchpad.net/c2d4u.team/c2d4u4.0+/ubuntu bionic/main amd64 Packages [913 kB]\n",
            "Get:24 http://archive.ubuntu.com/ubuntu bionic-updates/restricted amd64 Packages [533 kB]\n",
            "Get:25 http://archive.ubuntu.com/ubuntu bionic-updates/multiverse amd64 Packages [38.7 kB]\n",
            "Get:26 http://archive.ubuntu.com/ubuntu bionic-updates/universe amd64 Packages [2,190 kB]\n",
            "Get:27 http://ppa.launchpad.net/graphics-drivers/ppa/ubuntu bionic/main amd64 Packages [44.1 kB]\n",
            "Fetched 13.4 MB in 3s (4,049 kB/s)\n",
            "Reading package lists... Done\n",
            "Reading package lists... Done\n",
            "Building dependency tree       \n",
            "Reading state information... Done\n",
            "The following additional packages will be installed:\n",
            "  chromium-browser chromium-browser-l10n chromium-codecs-ffmpeg-extra\n",
            "Suggested packages:\n",
            "  webaccounts-chromium-extension unity-chromium-extension\n",
            "The following NEW packages will be installed:\n",
            "  chromium-browser chromium-browser-l10n chromium-chromedriver\n",
            "  chromium-codecs-ffmpeg-extra\n",
            "0 upgraded, 4 newly installed, 0 to remove and 84 not upgraded.\n",
            "Need to get 86.0 MB of archives.\n",
            "After this operation, 298 MB of additional disk space will be used.\n",
            "Get:1 http://archive.ubuntu.com/ubuntu bionic-updates/universe amd64 chromium-codecs-ffmpeg-extra amd64 91.0.4472.101-0ubuntu0.18.04.1 [1,124 kB]\n",
            "Get:2 http://archive.ubuntu.com/ubuntu bionic-updates/universe amd64 chromium-browser amd64 91.0.4472.101-0ubuntu0.18.04.1 [76.1 MB]\n",
            "Get:3 http://archive.ubuntu.com/ubuntu bionic-updates/universe amd64 chromium-browser-l10n all 91.0.4472.101-0ubuntu0.18.04.1 [3,937 kB]\n",
            "Get:4 http://archive.ubuntu.com/ubuntu bionic-updates/universe amd64 chromium-chromedriver amd64 91.0.4472.101-0ubuntu0.18.04.1 [4,837 kB]\n",
            "Fetched 86.0 MB in 3s (28.5 MB/s)\n",
            "Selecting previously unselected package chromium-codecs-ffmpeg-extra.\n",
            "(Reading database ... 160837 files and directories currently installed.)\n",
            "Preparing to unpack .../chromium-codecs-ffmpeg-extra_91.0.4472.101-0ubuntu0.18.04.1_amd64.deb ...\n",
            "Unpacking chromium-codecs-ffmpeg-extra (91.0.4472.101-0ubuntu0.18.04.1) ...\n",
            "Selecting previously unselected package chromium-browser.\n",
            "Preparing to unpack .../chromium-browser_91.0.4472.101-0ubuntu0.18.04.1_amd64.deb ...\n",
            "Unpacking chromium-browser (91.0.4472.101-0ubuntu0.18.04.1) ...\n",
            "Selecting previously unselected package chromium-browser-l10n.\n",
            "Preparing to unpack .../chromium-browser-l10n_91.0.4472.101-0ubuntu0.18.04.1_all.deb ...\n",
            "Unpacking chromium-browser-l10n (91.0.4472.101-0ubuntu0.18.04.1) ...\n",
            "Selecting previously unselected package chromium-chromedriver.\n",
            "Preparing to unpack .../chromium-chromedriver_91.0.4472.101-0ubuntu0.18.04.1_amd64.deb ...\n",
            "Unpacking chromium-chromedriver (91.0.4472.101-0ubuntu0.18.04.1) ...\n",
            "Setting up chromium-codecs-ffmpeg-extra (91.0.4472.101-0ubuntu0.18.04.1) ...\n",
            "Setting up chromium-browser (91.0.4472.101-0ubuntu0.18.04.1) ...\n",
            "update-alternatives: using /usr/bin/chromium-browser to provide /usr/bin/x-www-browser (x-www-browser) in auto mode\n",
            "update-alternatives: using /usr/bin/chromium-browser to provide /usr/bin/gnome-www-browser (gnome-www-browser) in auto mode\n",
            "Setting up chromium-chromedriver (91.0.4472.101-0ubuntu0.18.04.1) ...\n",
            "Setting up chromium-browser-l10n (91.0.4472.101-0ubuntu0.18.04.1) ...\n",
            "Processing triggers for man-db (2.8.3-2ubuntu0.1) ...\n",
            "Processing triggers for hicolor-icon-theme (0.17-2) ...\n",
            "Processing triggers for mime-support (3.60ubuntu1) ...\n",
            "Processing triggers for libc-bin (2.27-3ubuntu1.2) ...\n",
            "/sbin/ldconfig.real: /usr/local/lib/python3.7/dist-packages/ideep4py/lib/libmkldnn.so.0 is not a symbolic link\n",
            "\n"
          ],
          "name": "stdout"
        }
      ]
    },
    {
      "cell_type": "code",
      "metadata": {
        "id": "VzYAnIcMLDVc"
      },
      "source": [
        "### IMPORTS ###\n",
        "import re\n",
        "import time\n",
        "import pandas as pd\n",
        "\n",
        "from selenium import webdriver\n",
        "from selenium.common.exceptions import NoSuchElementException"
      ],
      "execution_count": null,
      "outputs": []
    },
    {
      "cell_type": "markdown",
      "metadata": {
        "id": "1PxiWLQ2Xoc9"
      },
      "source": [
        "#Configuration for Driver and links"
      ]
    },
    {
      "cell_type": "code",
      "metadata": {
        "id": "GUk_wQ3SK_Lz"
      },
      "source": [
        "###############\n",
        "### GLOBALS ###\n",
        "###############\n",
        "\n",
        "# Header for chromedriver\n",
        "HEADER = {'User-Agent': 'Mozilla/5.0 (Macintosh; Intel Mac OS X 10_14_5) AppleWebKit/537.36 (KHTML, like Gecko) Chrome/91.0.4472.164 Safari/537.36'}\n",
        "# Urls\n",
        "TIKI                = 'https://tiki.vn'\n",
        "MAIN_CATEGORIES = [\n",
        "    {'Name': 'Điện Thoại - Máy Tính Bảng',\n",
        "     'URL': 'https://tiki.vn/dien-thoai-may-tinh-bang/c1789?src=c.1789.hamburger_menu_fly_out_banner'},\n",
        "\n",
        "    {'Name': 'Điện Tử - Điện Lạnh',\n",
        "     'URL': 'https://tiki.vn/tivi-thiet-bi-nghe-nhin/c4221?src=c.4221.hamburger_menu_fly_out_banner'},\n",
        "\n",
        "    {'Name': 'Phụ Kiện - Thiết Bị Số', \n",
        "     'URL': 'https://tiki.vn/thiet-bi-kts-phu-kien-so/c1815?src=c.1815.hamburger_menu_fly_out_banner'},\n",
        "\n",
        "    {'Name': 'Laptop - Thiết bị IT', \n",
        "     'URL': 'https://tiki.vn/laptop-may-vi-tinh/c1846?src=c.1846.hamburger_menu_fly_out_banner'},\n",
        "\n",
        "    {'Name': 'Máy Ảnh - Quay Phim', \n",
        "     'URL': 'https://tiki.vn/may-anh/c1801?src=c.1801.hamburger_menu_fly_out_banner'},\n",
        "\n",
        "    {'Name': 'Điện Gia Dụng', \n",
        "     'URL': 'https://tiki.vn/dien-gia-dung/c1882?src=c.1882.hamburger_menu_fly_out_banner'},\n",
        "\n",
        "    {'Name': 'Nhà Cửa Đời Sống', \n",
        "     'URL': 'https://tiki.vn/nha-cua-doi-song/c1883?src=c.1883.hamburger_menu_fly_out_banner'},\n",
        "\n",
        "    {'Name': 'Hàng Tiêu Dùng - Thực Phẩm', \n",
        "     'URL': 'https://tiki.vn/bach-hoa-online/c4384?src=c.4384.hamburger_menu_fly_out_banner'},\n",
        "\n",
        "    {'Name': 'Đồ chơi, Mẹ & Bé', \n",
        "     'URL': 'https://tiki.vn/me-va-be/c2549?src=c.2549.hamburger_menu_fly_out_banner'},\n",
        "\n",
        "    {'Name': 'Làm Đẹp - Sức Khỏe', \n",
        "     'URL': 'https://tiki.vn/lam-dep-suc-khoe/c1520?src=c.1520.hamburger_menu_fly_out_banner'},\n",
        "\n",
        "    {'Name': 'Thể Thao - Dã Ngoại', \n",
        "     'URL': 'https://tiki.vn/the-thao/c1975?src=c.1975.hamburger_menu_fly_out_banner'},\n",
        "\n",
        "    {'Name': 'Xe Máy, Ô tô, Xe Đạp', \n",
        "     'URL': 'https://tiki.vn/o-to-xe-may-xe-dap/c8594?src=c.8594.hamburger_menu_fly_out_banner'},\n",
        "\n",
        "    {'Name': 'Hàng quốc tế', \n",
        "     'URL': 'https://tiki.vn/hang-quoc-te/c17166?src=c.17166.hamburger_menu_fly_out_banner'},\n",
        "\n",
        "    {'Name': 'Sách, VPP & Quà Tặng', \n",
        "     'URL': 'https://tiki.vn/nha-sach-tiki/c8322?src=c.8322.hamburger_menu_fly_out_banner'},\n",
        "\n",
        "    {'Name': 'Voucher - Dịch Vụ - Thẻ Cào', \n",
        "     'URL': 'https://tiki.vn/voucher-dich-vu/c11312?src=c.11312.hamburger_menu_fly_out_banner'}\n",
        "]\n",
        "\n",
        "# Global driver to use throughout the script\n",
        "DRIVER = None"
      ],
      "execution_count": null,
      "outputs": []
    },
    {
      "cell_type": "markdown",
      "metadata": {
        "id": "0eN3zAMuXMh3"
      },
      "source": [
        "#Function to Start and Close Driver"
      ]
    },
    {
      "cell_type": "code",
      "metadata": {
        "id": "taSb4oreXL6l"
      },
      "source": [
        "# Function to (re)start driver\n",
        "def start_driver(force_restart=False):\n",
        "    global DRIVER\n",
        "    \n",
        "    if DRIVER is not None:\n",
        "        if force_restart:\n",
        "            DRIVER.close()\n",
        "        else:\n",
        "            raise RuntimeError('ERROR: cannot overwrite an active driver. Please close the driver before restarting.')\n",
        "    \n",
        "    # Setting up the driver\n",
        "    print('Initiating driver...')\n",
        "    options = webdriver.ChromeOptions()\n",
        "    options.add_argument('-headless') # we don't want a chrome browser opens, so it will run in the background\n",
        "    options.add_argument('-no-sandbox')\n",
        "    options.add_argument('-disable-dev-shm-usage')\n",
        "\n",
        "    DRIVER = webdriver.Chrome('chromedriver',options=options)\n",
        "    print('Finished!')\n",
        "    \n",
        "# Wrapper to close driver if its created\n",
        "def close_driver():\n",
        "    global DRIVER\n",
        "    if DRIVER is not None:\n",
        "        DRIVER.close()\n",
        "    DRIVER = None"
      ],
      "execution_count": null,
      "outputs": []
    },
    {
      "cell_type": "markdown",
      "metadata": {
        "id": "9ur0CQW0XRcI"
      },
      "source": [
        "#Function to get info from one product"
      ]
    },
    {
      "cell_type": "markdown",
      "metadata": {
        "id": "TmHtax-T3NJh"
      },
      "source": [
        "### Function to get_product_info_single"
      ]
    },
    {
      "cell_type": "code",
      "metadata": {
        "id": "a3lx4DNUXQhN"
      },
      "source": [
        "#################\n",
        "### FUNCTIONS ###\n",
        "#################\n",
        "\n",
        "\n",
        "# Function to extract product info from the product\n",
        "def get_product_info_single(product_item):\n",
        "    product_info = {'name':'',\n",
        "                    'price':'',\n",
        "                    'product_url':'',\n",
        "                    'image':'',\n",
        "                    'tikinow':'',\n",
        "                    'free_delivery':'',\n",
        "                    'discount_percentage':'',\n",
        "                    'badge_under_price':'',\n",
        "                    'number_of_sold_units':'',\n",
        "                    }\n",
        "\n",
        "    # name get name through find_element_by_class_name\n",
        "    try:\n",
        "        product_info['name'] = product_item.find_element_by_class_name('name').get_attribute(\"textContent\")\n",
        "    except NoSuchElementException:\n",
        "        pass\n",
        "\n",
        "    # get price find_element_by_class_name\n",
        "    try:\n",
        "        product_info['price'] = product_item.find_element_by_class_name('price-discount__price').get_attribute(\"textContent\")\n",
        "    except NoSuchElementException:\n",
        "        product_info['price'] = -1\n",
        "\n",
        "    try:\n",
        "          # String manipulation\n",
        "        product_info['product_url'] = product_item.get_attribute('href')\n",
        "    except NoSuchElementException:\n",
        "        pass\n",
        "    \n",
        "    # get thumbnail by class_name and Tag name and get_attribute()\n",
        "    try:\n",
        "        thumbnail = product_item.find_element_by_class_name('thumbnail').find_elements_by_tag_name('img')[-1]\n",
        "        product_info['image'] = thumbnail.get_attribute('src')\n",
        "    except NoSuchElementException:\n",
        "        pass\n",
        "\n",
        "    # get TikiNow\n",
        "    try:\n",
        "        tikinow = product_item.find_element_by_class_name('badge-service').find_element_by_tag_name('img')\n",
        "        product_info['tikinow'] = 'Yes'\n",
        "    except NoSuchElementException:\n",
        "        product_info['tikinow'] = 'No'\n",
        "        pass\n",
        "\n",
        "    # get free_delivery\n",
        "    try:\n",
        "        free_delivery = product_item.find_element_by_class_name('thumbnail').find_elements_by_tag_name('img')\n",
        "        for i in range(1, len(free_delivery) + 1):\n",
        "          if i == 2: \n",
        "              product_info['free_delivery'] = 'Yes'\n",
        "          else:\n",
        "              product_info['free_delivery'] = 'No'\n",
        "    except NoSuchElementException:\n",
        "        pass\n",
        "    \n",
        "    # discount_percentage\n",
        "    try:\n",
        "        product_info['discount_percentage'] = product_item.find_element_by_class_name('price-discount__discount').text\n",
        "    except NoSuchElementException:\n",
        "        product_info['discount_percentage'] = 'No discount'\n",
        "        \n",
        "\n",
        "    # badge_under_price\n",
        "    try:\n",
        "        get_badge_under_price_img_tag = product_item.find_element_by_class_name('badge-under-price').find_element_by_tag_name('img')\n",
        "        product_info['badge_under_price'] = 'Yes'    \n",
        "    except NoSuchElementException:\n",
        "        product_info['badge_under_price'] = 'No'\n",
        "\n",
        "    # number_of_sold_units\n",
        "    try:\n",
        "        product_info['number_of_sold_units'] = product_item.find_element_by_css_selector('.info [class|=\"styles__StyledQtySold-sc\"]').get_attribute(\"textContent\")\n",
        "    except NoSuchElementException:\n",
        "        pass\n",
        "\n",
        "    return product_info\n"
      ],
      "execution_count": null,
      "outputs": []
    },
    {
      "cell_type": "markdown",
      "metadata": {
        "id": "UxwLcvvCu_2A"
      },
      "source": [
        "### Function to get additional info inside of product"
      ]
    },
    {
      "cell_type": "code",
      "metadata": {
        "id": "f8XRT4GypY82"
      },
      "source": [
        "#FUNCTION To Get AUTHORS and REVIEWS\n",
        "\n",
        "def get_additional_info(product_item):\n",
        "\n",
        "  additional_info = {'author':'',\n",
        "                     'reviews':'',\n",
        "                    }\n",
        "\n",
        "  #Get AUTHOR NAME\n",
        "  try:\n",
        "    additional_info['author'] = product_item.find_element_by_xpath(\"//span[contains(@class,'brand-and-author')]//a\").text\n",
        "  except NoSuchElementException:\n",
        "    pass\n",
        "\n",
        "  #Get REVIEWS NUMBERS:\n",
        "  try:\n",
        "    reviews = product_item.find_element_by_xpath(\"//div[contains(@class,'below-title')]//a\").text\n",
        "    count = reviews.replace('()','').split()\n",
        "    for i in count:\n",
        "      if i.isdigit():\n",
        "        additional_info['reviews'] =  i\n",
        "      else:\n",
        "        pass\n",
        "  except NoSuchElementException:\n",
        "    pass\n",
        "\n",
        "\n",
        "  return additional_info"
      ],
      "execution_count": null,
      "outputs": []
    },
    {
      "cell_type": "markdown",
      "metadata": {
        "id": "TNQYhIUqXZZU"
      },
      "source": [
        "#Function to scrape info of all products from a Page URL"
      ]
    },
    {
      "cell_type": "code",
      "metadata": {
        "id": "-00un6opKyNH"
      },
      "source": [
        "# Function to scrape all products from a page\n",
        "def get_product_info_from_page(page_url):\n",
        "    \"\"\" Extract info from all products of a specfic page_url on Tiki website\n",
        "        Args:\n",
        "            page_url: (string) url of the page to scrape\n",
        "        Returns:\n",
        "            data: list of dictionary of products info. If no products shown, return empty list.\n",
        "    \"\"\"\n",
        "    global DRIVER\n",
        "    \n",
        "    results = []      \n",
        "    DRIVER.get(page_url) # Use the driver to get info from the product page\n",
        "    time.sleep(5) ## Must have the sleep function\n",
        "\n",
        "      # Scrape all products listed on a page\n",
        "    products_all = DRIVER.find_elements_by_class_name('product-item')\n",
        "    print(f'Found {len(products_all)} products')\n",
        "\n",
        "    for product in products_all:\n",
        "      try:\n",
        "        product_info = get_product_info_single(product)\n",
        "        results.append(product_info)\n",
        "      except NoSuchElementException:\n",
        "        pass\n",
        "\n",
        "    return results"
      ],
      "execution_count": null,
      "outputs": []
    },
    {
      "cell_type": "markdown",
      "metadata": {
        "id": "bJ-I6jshppPB"
      },
      "source": [
        "# Start of Web Scraper"
      ]
    },
    {
      "cell_type": "code",
      "metadata": {
        "colab": {
          "base_uri": "https://localhost:8080/"
        },
        "id": "M4VOxvj7K6IY",
        "outputId": "375c351e-26bf-4f11-c57b-3710205bd697"
      },
      "source": [
        "######################\n",
        "### START SCRAPING ###\n",
        "######################\n",
        "\n",
        "num_max_page = 2\n",
        "main_cart_url = MAIN_CATEGORIES[-2]['URL']\n",
        "\n",
        "#Close & Start DRIVER\n",
        "close_driver()\n",
        "start_driver(force_restart=True) \n",
        "\n",
        "#CODE TO GET DATA    \n",
        "prod_data = get_product_info_from_page(main_cart_url)       \n",
        "\n",
        "page_2 = DRIVER.find_element_by_tag_name('li').find_element_by_xpath(\"//a[@data-view-label ='2']\").get_attribute('href')\n",
        "\n",
        "prod_data_next_page = get_product_info_from_page(page_2)\n",
        "prod_data.extend(prod_data_next_page)\n",
        "print(f'Found {len(prod_data)} products total on {num_max_page} pages')\n",
        "\n",
        "df = pd.DataFrame(prod_data, columns=prod_data[0].keys())\n",
        "df.index += 1 \n",
        "\n",
        "## get all product_url\n",
        "url = [dic['product_url'] for dic in prod_data]\n",
        "\n",
        "addition_info_result = []\n",
        "#Start getting additional_info of each product on 2 pages\n",
        "for i in url:\n",
        "  DRIVER.get(i)\n",
        "  additional_info = get_additional_info(DRIVER)  \n",
        "  addition_info_result.append(additional_info)\n",
        "\n",
        "#Save to DF:\n",
        "df_add = pd.DataFrame(addition_info_result, columns=addition_info_result[0].keys())\n",
        "df_add.index += 1\n",
        "\n",
        "##Concatenate 2 dataframes, Rename and Sort\n",
        "df_all = pd.concat([df,df_add],axis=1,sort=False)\n",
        "df_all.columns = ['Title','Price','Product URL','Image','Tikinow','Free Delivery','Discount %','Badge Under Price','Number of Sold Units','Author','Number of Reviews']\n",
        "custom_sort = ['Title','Author','Price','Image','Product URL','Discount %','Number of Sold Units','Number of Reviews', 'Tikinow','Free Delivery','Badge Under Price']\n",
        "df_all = df_all.reindex(custom_sort, axis=1)\n",
        "\n",
        "#SAVE TO FILE\n",
        "df_all.to_csv('tiki_products.csv')"
      ],
      "execution_count": null,
      "outputs": [
        {
          "output_type": "stream",
          "text": [
            "Initiating driver...\n",
            "Finished!\n",
            "Found 64 products\n",
            "Found 61 products\n",
            "Found 125 products total on 2 pages\n"
          ],
          "name": "stdout"
        }
      ]
    },
    {
      "cell_type": "code",
      "metadata": {
        "colab": {
          "base_uri": "https://localhost:8080/",
          "height": 1000
        },
        "id": "LuXhfwzWtnLk",
        "outputId": "89cb43c4-d7c7-4324-d287-bbb2e2e4e17a"
      },
      "source": [
        "df_all.head(10)"
      ],
      "execution_count": null,
      "outputs": [
        {
          "output_type": "execute_result",
          "data": {
            "text/html": [
              "<div>\n",
              "<style scoped>\n",
              "    .dataframe tbody tr th:only-of-type {\n",
              "        vertical-align: middle;\n",
              "    }\n",
              "\n",
              "    .dataframe tbody tr th {\n",
              "        vertical-align: top;\n",
              "    }\n",
              "\n",
              "    .dataframe thead th {\n",
              "        text-align: right;\n",
              "    }\n",
              "</style>\n",
              "<table border=\"1\" class=\"dataframe\">\n",
              "  <thead>\n",
              "    <tr style=\"text-align: right;\">\n",
              "      <th></th>\n",
              "      <th>Title</th>\n",
              "      <th>Author</th>\n",
              "      <th>Price</th>\n",
              "      <th>Image</th>\n",
              "      <th>Product URL</th>\n",
              "      <th>Discount %</th>\n",
              "      <th>Number of Sold Units</th>\n",
              "      <th>Number of Reviews</th>\n",
              "      <th>Tikinow</th>\n",
              "      <th>Free Delivery</th>\n",
              "      <th>Badge Under Price</th>\n",
              "    </tr>\n",
              "  </thead>\n",
              "  <tbody>\n",
              "    <tr>\n",
              "      <th>1</th>\n",
              "      <td>AdĐời Ngắn Đừng Ngủ Dài (Tái Bản)</td>\n",
              "      <td>Robin Sharma</td>\n",
              "      <td>52.000 ₫</td>\n",
              "      <td>https://salt.tikicdn.com/cache/280x280/ts/prod...</td>\n",
              "      <td>https://tka.tiki.vn/pixel?data=djAwMQkd_PgEob_...</td>\n",
              "      <td>-31%</td>\n",
              "      <td>Đã bán 1000+</td>\n",
              "      <td>2287</td>\n",
              "      <td>Yes</td>\n",
              "      <td>Yes</td>\n",
              "      <td>Yes</td>\n",
              "    </tr>\n",
              "    <tr>\n",
              "      <th>2</th>\n",
              "      <td>Muôn Kiếp Nhân Sinh 2</td>\n",
              "      <td>Nguyên Phong</td>\n",
              "      <td>186.400 ₫</td>\n",
              "      <td>https://salt.tikicdn.com/cache/280x280/ts/prod...</td>\n",
              "      <td>https://tiki.vn/muon-kiep-nhan-sinh-2-p9417346...</td>\n",
              "      <td>-30%</td>\n",
              "      <td>Đã bán 1000+</td>\n",
              "      <td>3903</td>\n",
              "      <td>Yes</td>\n",
              "      <td>Yes</td>\n",
              "      <td>No</td>\n",
              "    </tr>\n",
              "    <tr>\n",
              "      <th>3</th>\n",
              "      <td>Cây Cam Ngọt Của Tôi</td>\n",
              "      <td></td>\n",
              "      <td>71.700 ₫</td>\n",
              "      <td>https://salt.tikicdn.com/cache/280x280/ts/prod...</td>\n",
              "      <td>https://tiki.vn/cay-cam-ngot-cua-toi-p74021317...</td>\n",
              "      <td></td>\n",
              "      <td>Đã bán 1000+</td>\n",
              "      <td>2629</td>\n",
              "      <td>Yes</td>\n",
              "      <td>Yes</td>\n",
              "      <td>No</td>\n",
              "    </tr>\n",
              "    <tr>\n",
              "      <th>4</th>\n",
              "      <td>Cân Bằng Cảm Xúc, Cả Lúc Bão Giông</td>\n",
              "      <td>Richard Nicholls</td>\n",
              "      <td>61.500 ₫</td>\n",
              "      <td>https://salt.tikicdn.com/cache/280x280/ts/prod...</td>\n",
              "      <td>https://tiki.vn/can-bang-cam-xuc-ca-luc-bao-gi...</td>\n",
              "      <td></td>\n",
              "      <td>Đã bán 1000+</td>\n",
              "      <td>3697</td>\n",
              "      <td>Yes</td>\n",
              "      <td>Yes</td>\n",
              "      <td>No</td>\n",
              "    </tr>\n",
              "    <tr>\n",
              "      <th>5</th>\n",
              "      <td>AdHọc Viện - The Institute (Stephen King)</td>\n",
              "      <td>Stephen King</td>\n",
              "      <td>149.500 ₫</td>\n",
              "      <td>https://salt.tikicdn.com/cache/280x280/ts/prod...</td>\n",
              "      <td>https://tka.tiki.vn/pixel?data=djAwMXck_DLeeqV...</td>\n",
              "      <td>-50%</td>\n",
              "      <td>Đã bán 676</td>\n",
              "      <td>202</td>\n",
              "      <td>Yes</td>\n",
              "      <td>Yes</td>\n",
              "      <td>Yes</td>\n",
              "    </tr>\n",
              "    <tr>\n",
              "      <th>6</th>\n",
              "      <td>Muôn Kiếp Nhân Sinh (Many Lives - Many Times)</td>\n",
              "      <td>Nguyên Phong</td>\n",
              "      <td>104.800 ₫</td>\n",
              "      <td>https://salt.tikicdn.com/cache/280x280/ts/prod...</td>\n",
              "      <td>https://tiki.vn/muon-kiep-nhan-sinh-many-lives...</td>\n",
              "      <td>-38%</td>\n",
              "      <td>Đã bán 1000+</td>\n",
              "      <td>3915</td>\n",
              "      <td>Yes</td>\n",
              "      <td>Yes</td>\n",
              "      <td>Yes</td>\n",
              "    </tr>\n",
              "    <tr>\n",
              "      <th>7</th>\n",
              "      <td>Thay Đổi Cuộc Sống Với Nhân Số Học</td>\n",
              "      <td>David A. Phillips</td>\n",
              "      <td>161.500 ₫</td>\n",
              "      <td>https://salt.tikicdn.com/cache/280x280/ts/prod...</td>\n",
              "      <td>https://tiki.vn/thay-doi-cuoc-song-voi-nhan-so...</td>\n",
              "      <td></td>\n",
              "      <td>Đã bán 1000+</td>\n",
              "      <td>2759</td>\n",
              "      <td>Yes</td>\n",
              "      <td>Yes</td>\n",
              "      <td>Yes</td>\n",
              "    </tr>\n",
              "    <tr>\n",
              "      <th>8</th>\n",
              "      <td>Rèn Luyện Tư Duy Phản Biện</td>\n",
              "      <td>Albert Rutherford</td>\n",
              "      <td>61.200 ₫</td>\n",
              "      <td>https://salt.tikicdn.com/cache/280x280/ts/prod...</td>\n",
              "      <td>https://tiki.vn/ren-luyen-tu-duy-phan-bien-p46...</td>\n",
              "      <td></td>\n",
              "      <td>Đã bán 1000+</td>\n",
              "      <td>1162</td>\n",
              "      <td>Yes</td>\n",
              "      <td>Yes</td>\n",
              "      <td>No</td>\n",
              "    </tr>\n",
              "    <tr>\n",
              "      <th>9</th>\n",
              "      <td>AdCombo 2 Cuốn: Tâm Lý Học Tội Phạm</td>\n",
              "      <td>Stanton E. Samenow</td>\n",
              "      <td>206.300 ₫</td>\n",
              "      <td>https://salt.tikicdn.com/cache/280x280/ts/prod...</td>\n",
              "      <td>https://tka.tiki.vn/pixel?data=djAwMUdZzYx9Xvd...</td>\n",
              "      <td>-28%</td>\n",
              "      <td>Đã bán 1000+</td>\n",
              "      <td>608</td>\n",
              "      <td>Yes</td>\n",
              "      <td>Yes</td>\n",
              "      <td>No</td>\n",
              "    </tr>\n",
              "    <tr>\n",
              "      <th>10</th>\n",
              "      <td>Đọc Vị Bất Kỳ Ai (Tái Bản 2019)</td>\n",
              "      <td>TS. David J. Lieberman</td>\n",
              "      <td>52.400 ₫</td>\n",
              "      <td>https://salt.tikicdn.com/cache/280x280/ts/prod...</td>\n",
              "      <td>https://tiki.vn/doc-vi-bat-ky-ai-tai-ban-2019-...</td>\n",
              "      <td>-34%</td>\n",
              "      <td>Đã bán 1000+</td>\n",
              "      <td>1762</td>\n",
              "      <td>Yes</td>\n",
              "      <td>Yes</td>\n",
              "      <td>Yes</td>\n",
              "    </tr>\n",
              "  </tbody>\n",
              "</table>\n",
              "</div>"
            ],
            "text/plain": [
              "                                            Title  ... Badge Under Price\n",
              "1               AdĐời Ngắn Đừng Ngủ Dài (Tái Bản)  ...               Yes\n",
              "2                           Muôn Kiếp Nhân Sinh 2  ...                No\n",
              "3                            Cây Cam Ngọt Của Tôi  ...                No\n",
              "4              Cân Bằng Cảm Xúc, Cả Lúc Bão Giông  ...                No\n",
              "5       AdHọc Viện - The Institute (Stephen King)  ...               Yes\n",
              "6   Muôn Kiếp Nhân Sinh (Many Lives - Many Times)  ...               Yes\n",
              "7              Thay Đổi Cuộc Sống Với Nhân Số Học  ...               Yes\n",
              "8                      Rèn Luyện Tư Duy Phản Biện  ...                No\n",
              "9             AdCombo 2 Cuốn: Tâm Lý Học Tội Phạm  ...                No\n",
              "10                Đọc Vị Bất Kỳ Ai (Tái Bản 2019)  ...               Yes\n",
              "\n",
              "[10 rows x 11 columns]"
            ]
          },
          "metadata": {
            "tags": []
          },
          "execution_count": 9
        }
      ]
    },
    {
      "cell_type": "markdown",
      "metadata": {
        "id": "OGRdpV6AYxHf"
      },
      "source": [
        "**Extra Optional Requirement**\n",
        "\n",
        "\n",
        "Bonus information:\n",
        "\n",
        "* Is it TikiNow (delivery within 2 hours) <img src=\"https://salt.tikicdn.com/ts/upload/9f/32/dd/8a8d39d4453399569dfb3e80fe01de75.png\">?\n",
        "* Is it free delivery?\n",
        "* Number of reviews?\n",
        "* How many stars or percentage of stars?\n",
        "* Does it got \"badge under price\" (Rẻ hơn hoàn tiền) <img src=\"https://salt.tikicdn.com/ts/upload/51/ac/cc/528e80fe3f464f910174e2fdf8887b6f.png\">?\n",
        "* Discount percentage?\n",
        "* Does it got \"shocking price\" badge ? <img src=\"https://salt.tikicdn.com/ts/upload/75/34/d2/4a9a0958a782da8930cdad8f08afff37.png\">\n",
        "* Does it allowed to be paid by installments? <img src=\"https://salt.tikicdn.com/ts/upload/ba/4e/6e/26e9f2487e9f49b7dcf4043960e687dd.png\">\n",
        "* Does it comes with free gifts? <img src=\"https://salt.tikicdn.com/ts/upload/47/35/8c/446f61d046eba9a305d3f39dc0834c4a.png\">\n",
        "    \n"
      ]
    }
  ]
}